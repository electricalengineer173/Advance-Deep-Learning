{
  "nbformat": 4,
  "nbformat_minor": 0,
  "metadata": {
    "colab": {
      "name": "reuters_updated.ipynb",
      "provenance": [],
      "collapsed_sections": []
    },
    "kernelspec": {
      "name": "python3",
      "display_name": "Python 3"
    },
    "language_info": {
      "name": "python"
    }
  },
  "cells": [
    {
      "cell_type": "markdown",
      "metadata": {
        "id": "FUFSUm3J-vdm"
      },
      "source": [
        "# Reuters Dataset\n",
        "\n",
        "**Classifying newswires:**\n",
        "\n",
        "*   46 mutually exclusive topics\n",
        "*   single-label & multi classes\n",
        "\n"
      ]
    },
    {
      "cell_type": "markdown",
      "metadata": {
        "id": "3TlJj1eNlRvX"
      },
      "source": [
        "# Loading Reuters Dataset"
      ]
    },
    {
      "cell_type": "code",
      "metadata": {
        "colab": {
          "base_uri": "https://localhost:8080/"
        },
        "id": "WoCFN8YkVQZ7",
        "outputId": "b6a40684-a9f2-49f2-a5a6-514282991ba7"
      },
      "source": [
        "from keras.datasets import reuters\n",
        "(train_data, train_labels), (test_data, test_labels) = reuters.load_data(num_words=10000)\n",
        "\n",
        "print(len(train_data))\n",
        "print(len(test_data))\n",
        "print(len(train_labels))"
      ],
      "execution_count": 42,
      "outputs": [
        {
          "output_type": "stream",
          "name": "stdout",
          "text": [
            "8982\n",
            "2246\n",
            "8982\n"
          ]
        }
      ]
    },
    {
      "cell_type": "code",
      "metadata": {
        "colab": {
          "base_uri": "https://localhost:8080/"
        },
        "id": "scJto7wfVVGj",
        "outputId": "6838e20a-b725-47ae-eb93-80381ed0077d"
      },
      "source": [
        "train_data[0]"
      ],
      "execution_count": 43,
      "outputs": [
        {
          "output_type": "execute_result",
          "data": {
            "text/plain": [
              "[1,\n",
              " 2,\n",
              " 2,\n",
              " 8,\n",
              " 43,\n",
              " 10,\n",
              " 447,\n",
              " 5,\n",
              " 25,\n",
              " 207,\n",
              " 270,\n",
              " 5,\n",
              " 3095,\n",
              " 111,\n",
              " 16,\n",
              " 369,\n",
              " 186,\n",
              " 90,\n",
              " 67,\n",
              " 7,\n",
              " 89,\n",
              " 5,\n",
              " 19,\n",
              " 102,\n",
              " 6,\n",
              " 19,\n",
              " 124,\n",
              " 15,\n",
              " 90,\n",
              " 67,\n",
              " 84,\n",
              " 22,\n",
              " 482,\n",
              " 26,\n",
              " 7,\n",
              " 48,\n",
              " 4,\n",
              " 49,\n",
              " 8,\n",
              " 864,\n",
              " 39,\n",
              " 209,\n",
              " 154,\n",
              " 6,\n",
              " 151,\n",
              " 6,\n",
              " 83,\n",
              " 11,\n",
              " 15,\n",
              " 22,\n",
              " 155,\n",
              " 11,\n",
              " 15,\n",
              " 7,\n",
              " 48,\n",
              " 9,\n",
              " 4579,\n",
              " 1005,\n",
              " 504,\n",
              " 6,\n",
              " 258,\n",
              " 6,\n",
              " 272,\n",
              " 11,\n",
              " 15,\n",
              " 22,\n",
              " 134,\n",
              " 44,\n",
              " 11,\n",
              " 15,\n",
              " 16,\n",
              " 8,\n",
              " 197,\n",
              " 1245,\n",
              " 90,\n",
              " 67,\n",
              " 52,\n",
              " 29,\n",
              " 209,\n",
              " 30,\n",
              " 32,\n",
              " 132,\n",
              " 6,\n",
              " 109,\n",
              " 15,\n",
              " 17,\n",
              " 12]"
            ]
          },
          "metadata": {},
          "execution_count": 43
        }
      ]
    },
    {
      "cell_type": "markdown",
      "metadata": {
        "id": "mMQGkOS2lka6"
      },
      "source": [
        "# Data Decoding"
      ]
    },
    {
      "cell_type": "code",
      "metadata": {
        "id": "YLXwS-gkVVNN"
      },
      "source": [
        "word_ind = reuters.get_word_index()\n",
        "#word_ind"
      ],
      "execution_count": 44,
      "outputs": []
    },
    {
      "cell_type": "code",
      "metadata": {
        "id": "OyFf8xwmVVVY"
      },
      "source": [
        "ind_word = {}\n",
        "for (key,value) in word_ind.items():\n",
        "  ind_word[value] = key\n",
        "#ind_word"
      ],
      "execution_count": 45,
      "outputs": []
    },
    {
      "cell_type": "code",
      "metadata": {
        "colab": {
          "base_uri": "https://localhost:8080/",
          "height": 86
        },
        "id": "XONN6gX2XDNs",
        "outputId": "a80fec63-18cb-4049-805c-d10ddc04842a"
      },
      "source": [
        "#decoded_review = ' '.join(\n",
        "#[ind_word.get(i - 3, '?') for i in train_data[0]])\n",
        "#decoded_review \n",
        "\n",
        "m=[]\n",
        "for i in train_data[0]:\n",
        "  ok = ind_word.get(i-3,'?')\n",
        "  m.append(ok)\n",
        "join_words = ' '.join(m)\n",
        "\n",
        "join_words"
      ],
      "execution_count": 46,
      "outputs": [
        {
          "output_type": "execute_result",
          "data": {
            "application/vnd.google.colaboratory.intrinsic+json": {
              "type": "string"
            },
            "text/plain": [
              "'? ? ? said as a result of its december acquisition of space co it expects earnings per share in 1987 of 1 15 to 1 30 dlrs per share up from 70 cts in 1986 the company said pretax net should rise to nine to 10 mln dlrs from six mln dlrs in 1986 and rental operation revenues to 19 to 22 mln dlrs from 12 5 mln dlrs it said cash flow per share this year should be 2 50 to three dlrs reuter 3'"
            ]
          },
          "metadata": {},
          "execution_count": 46
        }
      ]
    },
    {
      "cell_type": "markdown",
      "metadata": {
        "id": "ENZgA8ewmGtS"
      },
      "source": [
        "# Data Pre-Processing(Vectorization)"
      ]
    },
    {
      "cell_type": "markdown",
      "metadata": {
        "id": "3SA_D5gFmjOZ"
      },
      "source": [
        "Data vectorization Function "
      ]
    },
    {
      "cell_type": "code",
      "metadata": {
        "id": "W_-hKNO9r_Vf"
      },
      "source": [
        "import numpy as np\n",
        "\n",
        "def vectorize_sequences(sequences, dimension=10000):\n",
        "\n",
        "  results = np.zeros((len(sequences), dimension))\n",
        "  print(\"length of sequences:\",len(sequences))\n",
        "  for i, sequence in enumerate(sequences):\n",
        "    results[i, sequence] = 1.\n",
        "    #print(results[i,sequence])\n",
        "\n",
        "  return results\n"
      ],
      "execution_count": 47,
      "outputs": []
    },
    {
      "cell_type": "code",
      "metadata": {
        "colab": {
          "base_uri": "https://localhost:8080/"
        },
        "id": "iiEmRSIlr41k",
        "outputId": "12a6cbbf-bb9d-4a65-de19-57e9f310737a"
      },
      "source": [
        "test_data[0]"
      ],
      "execution_count": 48,
      "outputs": [
        {
          "output_type": "execute_result",
          "data": {
            "text/plain": [
              "[1,\n",
              " 4,\n",
              " 1378,\n",
              " 2025,\n",
              " 9,\n",
              " 697,\n",
              " 4622,\n",
              " 111,\n",
              " 8,\n",
              " 25,\n",
              " 109,\n",
              " 29,\n",
              " 3650,\n",
              " 11,\n",
              " 150,\n",
              " 244,\n",
              " 364,\n",
              " 33,\n",
              " 30,\n",
              " 30,\n",
              " 1398,\n",
              " 333,\n",
              " 6,\n",
              " 2,\n",
              " 159,\n",
              " 9,\n",
              " 1084,\n",
              " 363,\n",
              " 13,\n",
              " 2,\n",
              " 71,\n",
              " 9,\n",
              " 2,\n",
              " 71,\n",
              " 117,\n",
              " 4,\n",
              " 225,\n",
              " 78,\n",
              " 206,\n",
              " 10,\n",
              " 9,\n",
              " 1214,\n",
              " 8,\n",
              " 4,\n",
              " 270,\n",
              " 5,\n",
              " 2,\n",
              " 7,\n",
              " 748,\n",
              " 48,\n",
              " 9,\n",
              " 2,\n",
              " 7,\n",
              " 207,\n",
              " 1451,\n",
              " 966,\n",
              " 1864,\n",
              " 793,\n",
              " 97,\n",
              " 133,\n",
              " 336,\n",
              " 7,\n",
              " 4,\n",
              " 493,\n",
              " 98,\n",
              " 273,\n",
              " 104,\n",
              " 284,\n",
              " 25,\n",
              " 39,\n",
              " 338,\n",
              " 22,\n",
              " 905,\n",
              " 220,\n",
              " 3465,\n",
              " 644,\n",
              " 59,\n",
              " 20,\n",
              " 6,\n",
              " 119,\n",
              " 61,\n",
              " 11,\n",
              " 15,\n",
              " 58,\n",
              " 579,\n",
              " 26,\n",
              " 10,\n",
              " 67,\n",
              " 7,\n",
              " 4,\n",
              " 738,\n",
              " 98,\n",
              " 43,\n",
              " 88,\n",
              " 333,\n",
              " 722,\n",
              " 12,\n",
              " 20,\n",
              " 6,\n",
              " 19,\n",
              " 746,\n",
              " 35,\n",
              " 15,\n",
              " 10,\n",
              " 9,\n",
              " 1214,\n",
              " 855,\n",
              " 129,\n",
              " 783,\n",
              " 21,\n",
              " 4,\n",
              " 2280,\n",
              " 244,\n",
              " 364,\n",
              " 51,\n",
              " 16,\n",
              " 299,\n",
              " 452,\n",
              " 16,\n",
              " 515,\n",
              " 4,\n",
              " 99,\n",
              " 29,\n",
              " 5,\n",
              " 4,\n",
              " 364,\n",
              " 281,\n",
              " 48,\n",
              " 10,\n",
              " 9,\n",
              " 1214,\n",
              " 23,\n",
              " 644,\n",
              " 47,\n",
              " 20,\n",
              " 324,\n",
              " 27,\n",
              " 56,\n",
              " 2,\n",
              " 2,\n",
              " 5,\n",
              " 192,\n",
              " 510,\n",
              " 17,\n",
              " 12]"
            ]
          },
          "metadata": {},
          "execution_count": 48
        }
      ]
    },
    {
      "cell_type": "code",
      "metadata": {
        "colab": {
          "base_uri": "https://localhost:8080/"
        },
        "id": "bbfVHhVHXDfV",
        "outputId": "520b7e4c-1db7-442c-8913-28fc5f07d365"
      },
      "source": [
        "x_train = vectorize_sequences(train_data)\n",
        "x_test  = vectorize_sequences(test_data)"
      ],
      "execution_count": 49,
      "outputs": [
        {
          "output_type": "stream",
          "name": "stdout",
          "text": [
            "length of sequences: 8982\n",
            "length of sequences: 2246\n"
          ]
        }
      ]
    },
    {
      "cell_type": "code",
      "metadata": {
        "colab": {
          "base_uri": "https://localhost:8080/"
        },
        "id": "D35ArzUUXDhx",
        "outputId": "75674d90-73b9-4f9b-bab7-af9df3c88985"
      },
      "source": [
        "x_train[0]"
      ],
      "execution_count": 50,
      "outputs": [
        {
          "output_type": "execute_result",
          "data": {
            "text/plain": [
              "array([0., 1., 1., ..., 0., 0., 0.])"
            ]
          },
          "metadata": {},
          "execution_count": 50
        }
      ]
    },
    {
      "cell_type": "markdown",
      "metadata": {
        "id": "sFcPItSAmx_C"
      },
      "source": [
        "Labels vectorization"
      ]
    },
    {
      "cell_type": "code",
      "metadata": {
        "id": "9vUn1vMUw4ui"
      },
      "source": [
        "#this is multi classiication problem so we instad use of below code for label vectorization \n",
        "#y_train = np.asarray(train_labels).astype('float32')\n",
        "#y_test  = np.asarray(test_labels).astype('float32')\n",
        "\n",
        "# multi classfication problem\n",
        "\n",
        "#method1\n",
        "#from keras.utils.np_utils import to_categorical\n",
        "#one_hot_train_labels = to_categorical(train_labels)\n",
        "#one_hot_test_labels = to_categorical(test_labels)\n",
        "\n",
        "\n",
        "#methode2\n",
        "#The only thing this approach would change is the choice of the loss function.\n",
        "#With integer labels, you should use sparse_categorical_\n",
        "#crossentropy\n",
        "#y_train = np.array(train_labels)\n",
        "#y_test = np.array(test_labels)\n",
        "\n",
        "\n",
        "#method3\n",
        "def vectorize_labels(labels, dimension=46):\n",
        "\n",
        "  results = np.zeros((len(labels), dimension))\n",
        "  #print(\"length of labels:\",len(labels))\n",
        "  for i, label in enumerate(labels):\n",
        "    results[i, label] = 1.\n",
        "\n",
        "  return results"
      ],
      "execution_count": 51,
      "outputs": []
    },
    {
      "cell_type": "code",
      "metadata": {
        "colab": {
          "base_uri": "https://localhost:8080/"
        },
        "id": "U_o8uwCCiRSY",
        "outputId": "5ac899c7-2087-4279-e17b-2210c1381240"
      },
      "source": [
        "train_labels[0]"
      ],
      "execution_count": 52,
      "outputs": [
        {
          "output_type": "execute_result",
          "data": {
            "text/plain": [
              "3"
            ]
          },
          "metadata": {},
          "execution_count": 52
        }
      ]
    },
    {
      "cell_type": "code",
      "metadata": {
        "colab": {
          "base_uri": "https://localhost:8080/"
        },
        "id": "e5NCozAAqakD",
        "outputId": "17029b70-4f3f-4ef7-aff0-1244dbe802e6"
      },
      "source": [
        "y_train = vectorize_labels(train_labels)\n",
        "y_test  = vectorize_labels(test_labels)"
      ],
      "execution_count": 53,
      "outputs": [
        {
          "output_type": "stream",
          "name": "stdout",
          "text": [
            "length of labels: 8982\n",
            "length of labels: 2246\n"
          ]
        }
      ]
    },
    {
      "cell_type": "code",
      "metadata": {
        "colab": {
          "base_uri": "https://localhost:8080/"
        },
        "id": "BLeAxbQWh0Go",
        "outputId": "124f4d21-e373-4710-8f08-6ded5b379422"
      },
      "source": [
        "y_train[0]"
      ],
      "execution_count": 54,
      "outputs": [
        {
          "output_type": "execute_result",
          "data": {
            "text/plain": [
              "array([0., 0., 0., 1., 0., 0., 0., 0., 0., 0., 0., 0., 0., 0., 0., 0., 0.,\n",
              "       0., 0., 0., 0., 0., 0., 0., 0., 0., 0., 0., 0., 0., 0., 0., 0., 0.,\n",
              "       0., 0., 0., 0., 0., 0., 0., 0., 0., 0., 0., 0.])"
            ]
          },
          "metadata": {},
          "execution_count": 54
        }
      ]
    },
    {
      "cell_type": "code",
      "metadata": {
        "id": "BrwPV4rMh0NW"
      },
      "source": [
        "from keras import models\n",
        "from keras import layers\n",
        "model = models.Sequential()\n",
        "model.add(layers.Dense(32, activation='relu', input_shape=(10000,)))\n",
        "model.add(layers.Dense(32, activation='relu'))\n",
        "model.add(layers.Dense(46, activation='softmax'))\n",
        "\n",
        "model.compile(optimizer='rmsprop',\n",
        "              loss='categorical_crossentropy',\n",
        "              metrics=['accuracy'])"
      ],
      "execution_count": 82,
      "outputs": []
    },
    {
      "cell_type": "markdown",
      "metadata": {
        "id": "dDWSkU7IxuDe"
      },
      "source": [
        "setting aside the validation set"
      ]
    },
    {
      "cell_type": "code",
      "metadata": {
        "id": "7izspH7sxtHC"
      },
      "source": [
        "x_val = x_train[:2000]\n",
        "partial_x_train = x_train[2000:]\n",
        "y_val = y_train[:2000]\n",
        "partial_y_train = y_train[2000:]"
      ],
      "execution_count": 83,
      "outputs": []
    },
    {
      "cell_type": "code",
      "metadata": {
        "colab": {
          "base_uri": "https://localhost:8080/"
        },
        "id": "4DC6HYa7kF1q",
        "outputId": "8ae74012-6d52-4252-bc26-2cf12fb8be53"
      },
      "source": [
        "model_fit = model.fit(partial_x_train,\n",
        "                    partial_y_train,\n",
        "                    epochs=5,\n",
        "                    batch_size=512,\n",
        "                    validation_data=(x_val, y_val))\n",
        "\n",
        "results = model.evaluate(x_test, y_test)"
      ],
      "execution_count": 84,
      "outputs": [
        {
          "output_type": "stream",
          "name": "stdout",
          "text": [
            "Epoch 1/5\n",
            "14/14 [==============================] - 1s 70ms/step - loss: 3.2144 - accuracy: 0.4344 - val_loss: 2.5098 - val_accuracy: 0.6100\n",
            "Epoch 2/5\n",
            "14/14 [==============================] - 0s 35ms/step - loss: 2.0694 - accuracy: 0.6409 - val_loss: 1.8375 - val_accuracy: 0.6395\n",
            "Epoch 3/5\n",
            "14/14 [==============================] - 0s 35ms/step - loss: 1.5199 - accuracy: 0.7041 - val_loss: 1.5349 - val_accuracy: 0.6845\n",
            "Epoch 4/5\n",
            "14/14 [==============================] - 0s 34ms/step - loss: 1.2280 - accuracy: 0.7501 - val_loss: 1.3772 - val_accuracy: 0.7150\n",
            "Epoch 5/5\n",
            "14/14 [==============================] - 0s 34ms/step - loss: 1.0377 - accuracy: 0.7829 - val_loss: 1.2736 - val_accuracy: 0.7310\n",
            "71/71 [==============================] - 0s 3ms/step - loss: 1.2875 - accuracy: 0.7240\n"
          ]
        }
      ]
    },
    {
      "cell_type": "code",
      "metadata": {
        "colab": {
          "base_uri": "https://localhost:8080/"
        },
        "id": "YXWPNw2NpieH",
        "outputId": "24b2398c-2924-498f-ec35-920dc5ae6451"
      },
      "source": [
        "history_dic = model_fit.history\n",
        "history_dic.keys()"
      ],
      "execution_count": 85,
      "outputs": [
        {
          "output_type": "execute_result",
          "data": {
            "text/plain": [
              "dict_keys(['loss', 'accuracy', 'val_loss', 'val_accuracy'])"
            ]
          },
          "metadata": {},
          "execution_count": 85
        }
      ]
    },
    {
      "cell_type": "code",
      "metadata": {
        "colab": {
          "base_uri": "https://localhost:8080/",
          "height": 295
        },
        "id": "DsDxhNuopilP",
        "outputId": "4a313cfe-81c9-4598-a5e0-a3b670b77277"
      },
      "source": [
        "import matplotlib.pyplot as plt\n",
        "loss_values     = history_dic['loss']\n",
        "val_loss_values = history_dic['val_loss']\n",
        "acc             = history_dic['accuracy']\n",
        "\n",
        "epochs = range(1, len(acc) + 1)\n",
        "\n",
        "\n",
        "plt.plot(epochs, loss_values, 'bo', label='Training loss')\n",
        "plt.plot(epochs, val_loss_values, 'b', label='Validation loss')\n",
        "plt.title('Training and validation loss')\n",
        "plt.xlabel('Epochs')\n",
        "plt.ylabel('Loss')\n",
        "plt.legend()\n",
        "plt.show()"
      ],
      "execution_count": 86,
      "outputs": [
        {
          "output_type": "display_data",
          "data": {
            "image/png": "[encoded data removed]",
            "text/plain": [
              "<Figure size 432x288 with 1 Axes>"
            ]
          },
          "metadata": {
            "needs_background": "light"
          }
        }
      ]
    },
    {
      "cell_type": "code",
      "metadata": {
        "colab": {
          "base_uri": "https://localhost:8080/",
          "height": 295
        },
        "id": "EiU7S0Py1drs",
        "outputId": "83edbd28-b25c-4d09-9761-084fd92c3289"
      },
      "source": [
        "plt.clf()\n",
        "\n",
        "plt.plot(epochs, history_dic['accuracy'], 'bo', label='Training acc')\n",
        "plt.plot(epochs,  history_dic['val_accuracy'], 'b', label='Validation acc')\n",
        "\n",
        "\n",
        "plt.title('Training and validation accuracy')\n",
        "plt.xlabel('Epochs')\n",
        "plt.ylabel('Loss')\n",
        "plt.legend()\n",
        "plt.show()"
      ],
      "execution_count": 87,
      "outputs": [
        {
          "output_type": "display_data",
          "data": {
            "image/png": "[encoded data removed]",
            "text/plain": [
              "<Figure size 432x288 with 1 Axes>"
            ]
          },
          "metadata": {
            "needs_background": "light"
          }
        }
      ]
    },
    {
      "cell_type": "code",
      "metadata": {
        "colab": {
          "base_uri": "https://localhost:8080/"
        },
        "id": "Yrk4moY9qkKd",
        "outputId": "6cb98b90-63fe-462f-a1c6-d4569c43957d"
      },
      "source": [
        "results = model.evaluate(x_test, y_test)\n",
        "results"
      ],
      "execution_count": 94,
      "outputs": [
        {
          "output_type": "stream",
          "name": "stdout",
          "text": [
            "71/71 [==============================] - 0s 2ms/step - loss: 1.2875 - accuracy: 0.7240\n"
          ]
        },
        {
          "output_type": "execute_result",
          "data": {
            "text/plain": [
              "[1.287475824356079, 0.7239537239074707]"
            ]
          },
          "metadata": {},
          "execution_count": 94
        }
      ]
    },
    {
      "cell_type": "markdown",
      "metadata": {
        "id": "a1hhLXnz724a"
      },
      "source": [
        "Model. predict passes the input vector through the model and returns the output tensor for each datapoint. Since the last layer in your model is a single Dense neuron, the output for any datapoint is a single value."
      ]
    },
    {
      "cell_type": "code",
      "metadata": {
        "id": "zrgkaopfpiu0"
      },
      "source": [
        "prediction=model.predict(x_test)"
      ],
      "execution_count": 95,
      "outputs": []
    },
    {
      "cell_type": "code",
      "metadata": {
        "colab": {
          "base_uri": "https://localhost:8080/"
        },
        "id": "a15Pn8d47Zrl",
        "outputId": "cd47c71a-627c-414e-8f03-0f5d31d99969"
      },
      "source": [
        "np.argmax(prediction[0])"
      ],
      "execution_count": 96,
      "outputs": [
        {
          "output_type": "execute_result",
          "data": {
            "text/plain": [
              "3"
            ]
          },
          "metadata": {},
          "execution_count": 96
        }
      ]
    }
  ]
}